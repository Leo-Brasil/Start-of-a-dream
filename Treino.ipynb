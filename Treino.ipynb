{
 "cells": [
  {
   "cell_type": "code",
   "execution_count": 26,
   "metadata": {},
   "outputs": [],
   "source": [
    "import pandas as pd\n",
    "import numpy as np"
   ]
  },
  {
   "cell_type": "code",
   "execution_count": 27,
   "metadata": {},
   "outputs": [
    {
     "data": {
      "text/plain": [
       "[[1, 2, 3], [4, 5, 6], [7, 8, 9]]"
      ]
     },
     "execution_count": 27,
     "metadata": {},
     "output_type": "execute_result"
    }
   ],
   "source": [
    "dados = [[1,2,3],\n",
    "        [4,5,6],\n",
    "        [7,8,9]]\n",
    "dados"
   ]
  },
  {
   "cell_type": "code",
   "execution_count": 44,
   "metadata": {},
   "outputs": [
    {
     "data": {
      "text/plain": [
       "258"
      ]
     },
     "execution_count": 44,
     "metadata": {},
     "output_type": "execute_result"
    }
   ],
   "source": [
    "anos = np.loadtxt('dados/carros-anos.txt')\n",
    "anos\n",
    "len(anos)"
   ]
  },
  {
   "cell_type": "code",
   "execution_count": 31,
   "metadata": {},
   "outputs": [],
   "source": [
    "quilometragem = np.loadtxt('dados/carros-km.txt', dtype = int)"
   ]
  },
  {
   "cell_type": "code",
   "execution_count": 50,
   "metadata": {
    "collapsed": true
   },
   "outputs": [
    {
     "data": {
      "text/plain": [
       "array([ 88078.64, 106161.94,  72832.16, 124549.07,  92612.1 ,  97497.73,\n",
       "        56445.2 , 112310.44, 120716.27,  76566.49,  71647.59,  73919.53,\n",
       "       112732.99,  53183.38, 127488.42,  59910.4 ,  61118.59,  88552.39,\n",
       "        62696.69, 101726.3 , 106147.38,  94564.4 , 133529.84, 125684.65,\n",
       "       121596.21,  71367.1 ,  95347.75, 105432.84,  57045.27, 120432.7 ,\n",
       "        70707.2 ,  69105.18,  59358.69,  65955.4 ,  60017.03, 118909.52,\n",
       "        51606.59, 123281.87,  69770.18, 102609.54,  67997.19, 135235.29,\n",
       "        86641.34, 136818.39, 117626.73,  56208.7 ,  84222.65,  90781.65,\n",
       "        64701.1 , 126350.49, 148152.89, 132298.83, 137627.63,  80422.71,\n",
       "        56373.99,  70846.03, 128694.23, 133329.19, 131961.43, 112033.27,\n",
       "        81399.35,  97163.1 ,  66007.16, 128776.22, 142623.02, 136930.13,\n",
       "        66526.61, 114154.87, 142392.75, 146716.91, 122485.68,  97951.03,\n",
       "        78283.49,  83434.04,  77836.23,  60813.92,  91353.86, 116281.21,\n",
       "       145197.7 ,  50742.1 ,  73033.53,  54332.87,  52207.45,  63578.5 ,\n",
       "        64507.72, 115075.59, 133030.6 , 141591.86, 100380.28,  96369.04,\n",
       "       142603.84, 117709.67, 102241.54,  96065.38,  53894.61, 123911.78,\n",
       "       101996.35,  83431.66, 122975.63,  93227.73,  58762.65, 139549.67,\n",
       "       122016.42,  72731.98,  88416.54,  73873.42,  70709.34, 115306.5 ,\n",
       "        55924.63,  85052.26,  56646.34, 138946.88, 108256.72,  58979.3 ,\n",
       "       114727.68, 139661.48,  80382.24, 149157.17,  87830.41, 143568.22,\n",
       "       138171.85, 115784.95, 146508.99, 137670.23, 138597.27, 147627.81,\n",
       "        62999.02,  91242.44, 149489.92,  63529.95,  58525.41,  90345.05,\n",
       "       147770.87, 106617.71, 104929.88, 100712.45, 141982.93, 104038.79,\n",
       "        88501.54,  79782.02,  86224.1 , 103596.18, 148996.47,  60948.01,\n",
       "        69535.44, 111130.33,  65847.69,  78096.06,  69219.89, 144118.91,\n",
       "        77397.05,  68974.25, 125231.3 ,  85501.12, 137116.21, 138823.81,\n",
       "       117961.95, 132662.32, 146405.79,  81999.21, 140934.6 ,  82366.81,\n",
       "        70424.11,  53620.31,  73389.18, 111618.12, 112187.37, 120812.57,\n",
       "       116031.04, 125398.11,  76101.47,  75263.24, 147387.76,  85311.4 ,\n",
       "        54388.11, 124156.65, 146203.34,  56453.94,  68873.79,  91667.61,\n",
       "        93776.52,  66433.82, 109059.27, 122069.97, 113090.32,  89401.1 ,\n",
       "        56842.79, 146676.71,  89511.96,  97290.18, 120673.56, 114434.94,\n",
       "       139546.69,  95078.16,  68091.77,  61496.97, 139669.3 ,  80661.39,\n",
       "        61783.65,  52805.91, 127024.75, 135543.  , 121708.73, 107342.68,\n",
       "        57888.1 , 118161.48, 142499.06, 128396.11, 112350.61, 124661.38,\n",
       "        54263.16,  62041.32, 129296.11,  60998.33,  58008.5 ,  82304.19,\n",
       "       114531.74, 128565.61, 126488.26, 119074.55, 130238.04, 115760.17,\n",
       "       121248.  ,  98156.35, 112146.8 , 102729.63, 141083.35, 102968.76,\n",
       "        76310.01, 120481.74,  54559.18,  92957.64, 127810.06,  73311.75,\n",
       "        65138.03,  90141.47,  71160.36,  67539.79,  67664.86,  68652.16,\n",
       "       114728.74, 141645.08, 126247.84, 128852.21, 132384.76, 129415.33,\n",
       "        89536.82,  87975.3 ,  77675.79,  58881.67,  55081.99, 118826.44,\n",
       "       137627.62,  51759.58,  51667.06,  68934.03, 122110.9 ,  90381.47])"
      ]
     },
     "execution_count": 50,
     "metadata": {},
     "output_type": "execute_result"
    }
   ],
   "source": [
    "valor = np.loadtxt('dados/carros-valor.txt')\n",
    "valor"
   ]
  },
  {
   "cell_type": "code",
   "execution_count": 33,
   "metadata": {},
   "outputs": [],
   "source": [
    "zero_km = np.loadtxt('dados/carros-zero-km.txt')"
   ]
  },
  {
   "cell_type": "code",
   "execution_count": 60,
   "metadata": {
    "collapsed": true
   },
   "outputs": [
    {
     "data": {
      "text/plain": [
       "array(['Jetta Variant', 'Passat', 'Crossfox', 'DS5', 'Aston Martin DB4',\n",
       "       'Palio Weekend', 'A5', 'Serie 3 Cabrio', 'Dodge Jorney', 'Carens',\n",
       "       'Ford Edge', 'Courier', 'S-18', 'J5', 'F-Type Coupe', 'RAM',\n",
       "       'Serie 1', 'A3', 'XC90', 'RS 3 Sportback', 'Pajero Sport',\n",
       "       'Serie 1 M', 'Lamborghini Obvious', 'Effa Hafei Picape Bau',\n",
       "       'Lamborghini Murcielago', 'Up!', 'Fiesta Rocam Sedan',\n",
       "       'Sandero Stepway', 'Cayman S', 'V40', 'Classe SLS AMG', 'Gol G4',\n",
       "       'Linea', 'Ford F100', 'J2', 'Aston Martin DBS', 'Pajero TR4',\n",
       "       'Polo Sedan', 'California', 'S60', 'Tucson', 'HB20', 'Optima',\n",
       "       'Logan', 'Range Rover Vogue', 'Sonata', 'Ford New Fiesta Sedan',\n",
       "       'Serie 5 Gran Turismo', 'CR-V', 'Ford EcoSport', 'Versa',\n",
       "       'Classe E', 'Carnival', 'Aston Martin V8 Vantage Roadster',\n",
       "       'Hoggar', 'A1', 'Aston Martin DB7 Vantage', 'CLA', 'Accord',\n",
       "       'EXTRA 103EX', 'Sorento', 'Tiggo', 'New Fiesta Hatch',\n",
       "       'Jeep Renegade', 'Lamborghini Ankonian', 'Space Cross', 'Touareg',\n",
       "       'Classe M', 'Lancer Evolution X', 'Kangoo Express', 'SW4',\n",
       "       'Cadillac ELR', 'Doblo', 'Lamborghini Egoista', 'Fit', 'C5',\n",
       "       'Celer Hatch', 'HB20S', 'Cielo Hatch', 'Livina', 'Ducato', 'March',\n",
       "       'Cadillac XTS sedan', 'Lamborghini Centenario', 'Hilux',\n",
       "       'Grand Siena', 'Symbol', 'Aston Martin V12 GT Zagato', 'Fusion',\n",
       "       'A4 Sedan', 'Xsara Picasso', '207 SW', 'Star', 'Doblo Cargo',\n",
       "       'Cadillac CTS', 'Cayenne', 'Fox', 'Tiida Hatch', 'Dodge Charger',\n",
       "       'Face', 'Prius', 'Idea', 'A8', 'Serie 1 Cabrio', 'Edge',\n",
       "       'Cadillac ATS sedan', 'Lamborghini Asterion LPI 910-4', 'Frontier',\n",
       "       'Serie 3 Seda', 'Lamborghini LM002', 'Cadillac XLR', 'A4 Avant',\n",
       "       'EcoSport', 'J3', 'Q3', 'Aston Martin V8 Vantage', 'Z4 Roadster',\n",
       "       'Lamborghini Ferruccio', 'Ford Ka+', 'Silver Shadow',\n",
       "       'Classe C 63 AMG Touring', 'Discovery 4', 'Veloster', 'Classe C',\n",
       "       'Camry', 'C5 Tourer', 'R8 GT', 'Bongo', 'ASX', 'Cadillac SRX',\n",
       "       'Classe CL', '500 Abarth', 'Aston Martin Cygnet', 'Cadillac STS',\n",
       "       'Aston Martin DB9', 'NX 200t', 'Aston Martin One-77',\n",
       "       'Lamborghini Veneno', 'Sentra', 'Jumper', 'i30', 'X6', 'Voyage',\n",
       "       'Phantom I Phantom II', 'Passat Variant', 'Clio', 'Classe G',\n",
       "       'Silver Ghost', 'Serie 3 M3 Coupe', 'Gallardo LP 560',\n",
       "       'Freelander 2', 'Grand Cherokee', 'Aston Martin DBR9', 'Soul',\n",
       "       'Cadillac BLS', 'RX 350', 'Cayman', 'Chana Utility', '308 CC',\n",
       "       'L200 Triton', 'Jetta', 'C4 Lounge', 'C4 Pallas', 'Equus',\n",
       "       'Classe GL', 'Range Rover Evoque', 'Cherokee', 'Punto',\n",
       "       'Grand Tour', 'Fluence', 'Effa Hafei Picape Cabine Simples',\n",
       "       'Durango', 'Boxster', 'TT Roadster', 'Lamborghini Jalpa',\n",
       "       'Classe SLK', 'Golf', 'C3 Picasso', 'V50', 'Picanto', 'Cadenza',\n",
       "       'Etios Seda', 'Alsvin', 'Cadillac ATS', 'Serie 3 M3 Seda',\n",
       "       'Classe S', 'T6', 'Aston Martin DB7', '207 Sedan',\n",
       "       'Aston Martin Virage', 'Azera', 'Vantage Volante', 'Siena EL',\n",
       "       'Palio Adventure', 'HB20X', 'HR', 'Cadillac STS V-Series',\n",
       "       'Serie 1 Coupe', 'SpaceFox', 'C30', 'J3 Turin', 'Classe B',\n",
       "       'Parati', 'Cadillac CTS V-Series', 'Sedan', 'Classe CLS 63 AMG',\n",
       "       'Aircross', 'Aston Martin V12 Vantage', 'Sandero', 'New Fiesta',\n",
       "       'XKR', 'X5', 'Cadillac DTS', 'Pajero Dakar', 'Classe A',\n",
       "       'Ford Focus Fastback', 'Partner', 'R8', 'Aston Martin DBS Volante',\n",
       "       'Mohave', 'Fusca', 'Chana Family', 'XC40',\n",
       "       'Phantom I Jonckheere Aerodynamic Coupe', 'Boxer', 'Chana Cargo',\n",
       "       'Dodge Dakota', 'X1', 'GLA', 'Range Rover Sport', 'DS3',\n",
       "       'Veracruz', 'Cadillac CTS coupe, sedan, and wagon', 'i30 CW',\n",
       "       'Phantom III', 'A3 Sedan', 'Aston Martin DB9 Volante',\n",
       "       'Serie 7 Seda', 'Lamborghini Reventon', 'Grand Livina', 'V60',\n",
       "       'Effa Hafei Picape Cabine Dupla', 'Benni Mini', 'Uno',\n",
       "       'L200 Savana', 'Santa Fe', 'RS5', 'Cerato', 'XC60', 'LS 460L',\n",
       "       'Lamborghini Sesto Elemento', 'Lamborghini Huracan', 'A7',\n",
       "       'Phantom 2013', 'Cadillac Ciel concept', 'Classe GLK',\n",
       "       'Aston Martin DB5', 'Macan'], dtype='<U38')"
      ]
     },
     "execution_count": 60,
     "metadata": {},
     "output_type": "execute_result"
    }
   ],
   "source": [
    "nomes_carros = np.loadtxt('dados/carros-nomes.txt', dtype = str, delimiter = ';')\n",
    "nomes_carros"
   ]
  },
  {
   "cell_type": "code",
   "execution_count": 58,
   "metadata": {},
   "outputs": [
    {
     "data": {
      "text/plain": [
       "range(0, 10)"
      ]
     },
     "execution_count": 58,
     "metadata": {},
     "output_type": "execute_result"
    }
   ],
   "source": [
    "range(10)"
   ]
  },
  {
   "cell_type": "code",
   "execution_count": 61,
   "metadata": {},
   "outputs": [
    {
     "data": {
      "text/plain": [
       "[0, 1, 2, 3, 4, 5, 6, 7, 8, 9]"
      ]
     },
     "execution_count": 61,
     "metadata": {},
     "output_type": "execute_result"
    }
   ],
   "source": [
    "treino = list(range(10))\n",
    "treino"
   ]
  },
  {
   "cell_type": "code",
   "execution_count": 62,
   "metadata": {},
   "outputs": [
    {
     "data": {
      "text/plain": [
       "[0, 1, 2, 3, 4, 5, 6, 7, 8, 9, 11]"
      ]
     },
     "execution_count": 62,
     "metadata": {},
     "output_type": "execute_result"
    }
   ],
   "source": [
    "treino.append(11)\n",
    "treino"
   ]
  },
  {
   "cell_type": "code",
   "execution_count": 66,
   "metadata": {},
   "outputs": [
    {
     "data": {
      "text/plain": [
       "[0, 1, 2, 3, 4, 5, 6, 7, 8, 9]"
      ]
     },
     "execution_count": 66,
     "metadata": {},
     "output_type": "execute_result"
    }
   ],
   "source": [
    "treino.pop()\n",
    "treino"
   ]
  },
  {
   "cell_type": "code",
   "execution_count": 69,
   "metadata": {},
   "outputs": [
    {
     "data": {
      "text/plain": [
       "['Rodas de liga',\n",
       " 'Travas elétricas',\n",
       " 'Piloto automático',\n",
       " 'Bancos de couro',\n",
       " 'Ar condicionado',\n",
       " 'Sensor de estacionamento',\n",
       " 'Sensor crepuscular',\n",
       " 'Sensor de chuva']"
      ]
     },
     "execution_count": 69,
     "metadata": {},
     "output_type": "execute_result"
    }
   ],
   "source": [
    "acessorios = ['Rodas de liga', 'Travas elétricas', 'Piloto automático', 'Bancos de couro', 'Ar condicionado', 'Sensor de estacionamento', 'Sensor crepuscular', 'Sensor de chuva']\n",
    "acessorios"
   ]
  },
  {
   "cell_type": "code",
   "execution_count": 70,
   "metadata": {},
   "outputs": [
    {
     "data": {
      "text/plain": [
       "['Ar condicionado',\n",
       " 'Bancos de couro',\n",
       " 'Piloto automático',\n",
       " 'Rodas de liga',\n",
       " 'Sensor crepuscular',\n",
       " 'Sensor de chuva',\n",
       " 'Sensor de estacionamento',\n",
       " 'Travas elétricas']"
      ]
     },
     "execution_count": 70,
     "metadata": {},
     "output_type": "execute_result"
    }
   ],
   "source": [
    "acessorios.sort()\n",
    "acessorios"
   ]
  },
  {
   "cell_type": "code",
   "execution_count": 71,
   "metadata": {},
   "outputs": [
    {
     "data": {
      "text/plain": [
       "['Ar condicionado',\n",
       " 'Bancos de couro',\n",
       " 'Piloto automático',\n",
       " 'Rodas de liga',\n",
       " 'Sensor crepuscular',\n",
       " 'Sensor de chuva',\n",
       " 'Sensor de estacionamento',\n",
       " 'Travas elétricas',\n",
       " '4x4']"
      ]
     },
     "execution_count": 71,
     "metadata": {},
     "output_type": "execute_result"
    }
   ],
   "source": [
    "acessorios.append('4x4')\n",
    "acessorios"
   ]
  },
  {
   "cell_type": "code",
   "execution_count": 72,
   "metadata": {},
   "outputs": [
    {
     "data": {
      "text/plain": [
       "False"
      ]
     },
     "execution_count": 72,
     "metadata": {},
     "output_type": "execute_result"
    }
   ],
   "source": [
    "'Bancos de couro' not in acessorios"
   ]
  },
  {
   "cell_type": "code",
   "execution_count": 73,
   "metadata": {},
   "outputs": [
    {
     "data": {
      "text/plain": [
       "bool"
      ]
     },
     "execution_count": 73,
     "metadata": {},
     "output_type": "execute_result"
    }
   ],
   "source": [
    "type('Bancos de couro' not in acessorios)"
   ]
  },
  {
   "cell_type": "code",
   "execution_count": 74,
   "metadata": {},
   "outputs": [
    {
     "data": {
      "text/plain": [
       "9"
      ]
     },
     "execution_count": 74,
     "metadata": {},
     "output_type": "execute_result"
    }
   ],
   "source": [
    "len(acessorios)"
   ]
  },
  {
   "cell_type": "code",
   "execution_count": 75,
   "metadata": {},
   "outputs": [
    {
     "name": "stdout",
     "output_type": "stream",
     "text": [
      "0\n",
      "1\n",
      "2\n",
      "3\n",
      "4\n",
      "5\n",
      "6\n",
      "7\n",
      "8\n",
      "9\n"
     ]
    }
   ],
   "source": [
    "for i in range(10):\n",
    "    print(i)"
   ]
  },
  {
   "cell_type": "code",
   "execution_count": 77,
   "metadata": {},
   "outputs": [
    {
     "name": "stdout",
     "output_type": "stream",
     "text": [
      "0\n",
      "1\n",
      "4\n",
      "9\n",
      "16\n",
      "25\n",
      "36\n",
      "49\n",
      "64\n",
      "81\n"
     ]
    }
   ],
   "source": [
    "for i in range(10):\n",
    "    print(i**2)"
   ]
  },
  {
   "cell_type": "code",
   "execution_count": 78,
   "metadata": {},
   "outputs": [
    {
     "data": {
      "text/plain": [
       "[0, 1, 4, 9, 16, 25, 36, 49, 64, 81]"
      ]
     },
     "execution_count": 78,
     "metadata": {},
     "output_type": "execute_result"
    }
   ],
   "source": [
    "list(i**2 for i in range(10))"
   ]
  },
  {
   "cell_type": "code",
   "execution_count": 90,
   "metadata": {
    "collapsed": true
   },
   "outputs": [
    {
     "data": {
      "text/plain": [
       "[0,\n",
       " 1,\n",
       " 2,\n",
       " 3,\n",
       " 4,\n",
       " 5,\n",
       " 6,\n",
       " 7,\n",
       " 8,\n",
       " 9,\n",
       " 10,\n",
       " 11,\n",
       " 12,\n",
       " 13,\n",
       " 14,\n",
       " 15,\n",
       " 16,\n",
       " 17,\n",
       " 18,\n",
       " 19,\n",
       " 20,\n",
       " 21,\n",
       " 22,\n",
       " 23,\n",
       " 24,\n",
       " 25,\n",
       " 26,\n",
       " 27,\n",
       " 28,\n",
       " 29,\n",
       " 30,\n",
       " 31,\n",
       " 32,\n",
       " 33,\n",
       " 34,\n",
       " 35,\n",
       " 36,\n",
       " 37,\n",
       " 38,\n",
       " 39,\n",
       " 40,\n",
       " 41,\n",
       " 42,\n",
       " 43,\n",
       " 44,\n",
       " 45,\n",
       " 46,\n",
       " 47,\n",
       " 48,\n",
       " 49,\n",
       " 50,\n",
       " 51,\n",
       " 52,\n",
       " 53,\n",
       " 54,\n",
       " 55,\n",
       " 56,\n",
       " 57,\n",
       " 58,\n",
       " 59,\n",
       " 60,\n",
       " 61,\n",
       " 62,\n",
       " 63,\n",
       " 64,\n",
       " 65,\n",
       " 66,\n",
       " 67,\n",
       " 68,\n",
       " 69,\n",
       " 70,\n",
       " 71,\n",
       " 72,\n",
       " 73,\n",
       " 74,\n",
       " 75,\n",
       " 76,\n",
       " 77,\n",
       " 78,\n",
       " 79,\n",
       " 80,\n",
       " 81,\n",
       " 82,\n",
       " 83,\n",
       " 84,\n",
       " 85,\n",
       " 86,\n",
       " 87,\n",
       " 88,\n",
       " 89,\n",
       " 90,\n",
       " 91,\n",
       " 92,\n",
       " 93,\n",
       " 94,\n",
       " 95,\n",
       " 96,\n",
       " 97,\n",
       " 98,\n",
       " 99,\n",
       " 100,\n",
       " 101,\n",
       " 102,\n",
       " 103,\n",
       " 104,\n",
       " 105,\n",
       " 106,\n",
       " 107,\n",
       " 108,\n",
       " 109,\n",
       " 110,\n",
       " 111,\n",
       " 112,\n",
       " 113,\n",
       " 114,\n",
       " 115,\n",
       " 116,\n",
       " 117,\n",
       " 118,\n",
       " 119,\n",
       " 120,\n",
       " 121,\n",
       " 122,\n",
       " 123,\n",
       " 124,\n",
       " 125,\n",
       " 126,\n",
       " 127,\n",
       " 128,\n",
       " 129,\n",
       " 130,\n",
       " 131,\n",
       " 132,\n",
       " 133,\n",
       " 134,\n",
       " 135,\n",
       " 136,\n",
       " 137,\n",
       " 138,\n",
       " 139,\n",
       " 140,\n",
       " 141,\n",
       " 142,\n",
       " 143,\n",
       " 144,\n",
       " 145,\n",
       " 146,\n",
       " 147,\n",
       " 148,\n",
       " 149,\n",
       " 150,\n",
       " 151,\n",
       " 152,\n",
       " 153,\n",
       " 154,\n",
       " 155,\n",
       " 156,\n",
       " 157,\n",
       " 158,\n",
       " 159,\n",
       " 160,\n",
       " 161,\n",
       " 162,\n",
       " 163,\n",
       " 164,\n",
       " 165,\n",
       " 166,\n",
       " 167,\n",
       " 168,\n",
       " 169,\n",
       " 170,\n",
       " 171,\n",
       " 172,\n",
       " 173,\n",
       " 174,\n",
       " 175,\n",
       " 176,\n",
       " 177,\n",
       " 178,\n",
       " 179,\n",
       " 180,\n",
       " 181,\n",
       " 182,\n",
       " 183,\n",
       " 184,\n",
       " 185,\n",
       " 186,\n",
       " 187,\n",
       " 188,\n",
       " 189,\n",
       " 190,\n",
       " 191,\n",
       " 192,\n",
       " 193,\n",
       " 194,\n",
       " 195,\n",
       " 196,\n",
       " 197,\n",
       " 198,\n",
       " 199,\n",
       " 200,\n",
       " 201,\n",
       " 202,\n",
       " 203,\n",
       " 204,\n",
       " 205,\n",
       " 206,\n",
       " 207,\n",
       " 208,\n",
       " 209,\n",
       " 210,\n",
       " 211,\n",
       " 212,\n",
       " 213,\n",
       " 214,\n",
       " 215,\n",
       " 216,\n",
       " 217,\n",
       " 218,\n",
       " 219,\n",
       " 220,\n",
       " 221,\n",
       " 222,\n",
       " 223,\n",
       " 224,\n",
       " 225,\n",
       " 226,\n",
       " 227,\n",
       " 228,\n",
       " 229,\n",
       " 230,\n",
       " 231,\n",
       " 232,\n",
       " 233,\n",
       " 234,\n",
       " 235,\n",
       " 236,\n",
       " 237,\n",
       " 238,\n",
       " 239,\n",
       " 240,\n",
       " 241,\n",
       " 242,\n",
       " 243,\n",
       " 244,\n",
       " 245,\n",
       " 246,\n",
       " 247,\n",
       " 248,\n",
       " 249,\n",
       " 250,\n",
       " 251,\n",
       " 252,\n",
       " 253,\n",
       " 254,\n",
       " 255,\n",
       " 256,\n",
       " 257]"
      ]
     },
     "execution_count": 90,
     "metadata": {},
     "output_type": "execute_result"
    }
   ],
   "source": [
    "list(i for i in range(258))"
   ]
  },
  {
   "cell_type": "code",
   "execution_count": 93,
   "metadata": {},
   "outputs": [
    {
     "data": {
      "text/plain": [
       "[[1, 2, 3], [4, 5, 6], [7, 8, 9]]"
      ]
     },
     "execution_count": 93,
     "metadata": {},
     "output_type": "execute_result"
    }
   ],
   "source": [
    "dados"
   ]
  },
  {
   "cell_type": "code",
   "execution_count": 95,
   "metadata": {},
   "outputs": [
    {
     "name": "stdout",
     "output_type": "stream",
     "text": [
      "1\n",
      "2\n",
      "3\n",
      "4\n",
      "5\n",
      "6\n",
      "7\n",
      "8\n",
      "9\n"
     ]
    }
   ],
   "source": [
    "for lista in dados:\n",
    "    for inteiros in lista:\n",
    "        print(inteiros)"
   ]
  },
  {
   "cell_type": "code",
   "execution_count": 116,
   "metadata": {},
   "outputs": [
    {
     "data": {
      "text/plain": [
       "[0, 1, 2, 3, 4, 5, 6, 7, 8, 9]"
      ]
     },
     "execution_count": 116,
     "metadata": {},
     "output_type": "execute_result"
    }
   ],
   "source": [
    "numeros = []\n",
    "\n",
    "for i in range (10):\n",
    "    numeros.append(i)\n",
    "    \n",
    "numeros"
   ]
  },
  {
   "cell_type": "code",
   "execution_count": 115,
   "metadata": {},
   "outputs": [
    {
     "name": "stdout",
     "output_type": "stream",
     "text": [
      "0\n",
      "1\n",
      "2\n",
      "3\n",
      "4\n",
      "5\n",
      "6\n",
      "7\n",
      "8\n",
      "9\n"
     ]
    },
    {
     "data": {
      "text/plain": [
       "[None, None, None, None, None, None, None, None, None, None]"
      ]
     },
     "execution_count": 115,
     "metadata": {},
     "output_type": "execute_result"
    }
   ],
   "source": [
    "numeros = [print (i) for i in range(10)]\n",
    "numeros"
   ]
  },
  {
   "cell_type": "code",
   "execution_count": 117,
   "metadata": {},
   "outputs": [
    {
     "data": {
      "text/plain": [
       "[['Jetta Variant', 2003, False],\n",
       " ['Passat', 1991, False],\n",
       " ['Crossfox', 1990, False],\n",
       " ['DS5', 2019, True],\n",
       " ['Aston Martin DB4', 2006, False],\n",
       " ['Palio Weekend', 2012, False],\n",
       " ['A5', 2019, True],\n",
       " ['Série 3 Cabrio', 2009, False],\n",
       " ['Dodge Jorney', 2019, False],\n",
       " ['Carens', 2011, False]]"
      ]
     },
     "execution_count": 117,
     "metadata": {},
     "output_type": "execute_result"
    }
   ],
   "source": [
    "# 1º item da lista - Nome do veículo\n",
    "# 2º item da lista - Ano de fabricação\n",
    "# 3º item da lista - Veículo é zero km?\n",
    "\n",
    "dados = [\n",
    "    ['Jetta Variant', 2003, False],\n",
    "    ['Passat', 1991, False],\n",
    "    ['Crossfox', 1990, False],\n",
    "    ['DS5', 2019, True],\n",
    "    ['Aston Martin DB4', 2006, False],\n",
    "    ['Palio Weekend', 2012, False],\n",
    "    ['A5', 2019, True],\n",
    "    ['Série 3 Cabrio', 2009, False],\n",
    "    ['Dodge Jorney', 2019, False],\n",
    "    ['Carens', 2011, False]\n",
    "]\n",
    "dados"
   ]
  },
  {
   "cell_type": "code",
   "execution_count": 124,
   "metadata": {},
   "outputs": [
    {
     "data": {
      "text/plain": [
       "[['DS5', 2019, True], ['A5', 2019, True]]"
      ]
     },
     "execution_count": 124,
     "metadata": {},
     "output_type": "execute_result"
    }
   ],
   "source": [
    "novinho = []\n",
    "\n",
    "for lista in dados:\n",
    "    if(lista[2] == True):  \n",
    "        novinho.append(lista)\n",
    "        \n",
    "novinho"
   ]
  },
  {
   "cell_type": "code",
   "execution_count": 125,
   "metadata": {},
   "outputs": [
    {
     "data": {
      "text/plain": [
       "[['Jetta Variant', 2003, False],\n",
       " ['Passat', 1991, False],\n",
       " ['Crossfox', 1990, False],\n",
       " ['Aston Martin DB4', 2006, False],\n",
       " ['Palio Weekend', 2012, False],\n",
       " ['Série 3 Cabrio', 2009, False],\n",
       " ['Dodge Jorney', 2019, False],\n",
       " ['Carens', 2011, False]]"
      ]
     },
     "execution_count": 125,
     "metadata": {},
     "output_type": "execute_result"
    }
   ],
   "source": [
    "velhinho = []\n",
    "\n",
    "for lista in dados:\n",
    "    if(lista[2] == False):  \n",
    "        velhinho.append(lista)\n",
    "        \n",
    "velhinho"
   ]
  },
  {
   "cell_type": "markdown",
   "metadata": {},
   "source": [
    "## List comprehensions"
   ]
  },
  {
   "cell_type": "code",
   "execution_count": 128,
   "metadata": {},
   "outputs": [
    {
     "data": {
      "text/plain": [
       "[[['DS5', 2019, True], ['A5', 2019, True]]]"
      ]
     },
     "execution_count": 128,
     "metadata": {},
     "output_type": "execute_result"
    }
   ],
   "source": [
    "novinho = []\n",
    "novinho.append([lista for lista in dados if lista[2] == True])\n",
    "novinho"
   ]
  },
  {
   "cell_type": "code",
   "execution_count": 129,
   "metadata": {},
   "outputs": [
    {
     "data": {
      "text/plain": [
       "[[['Jetta Variant', 2003, False],\n",
       "  ['Passat', 1991, False],\n",
       "  ['Crossfox', 1990, False],\n",
       "  ['Aston Martin DB4', 2006, False],\n",
       "  ['Palio Weekend', 2012, False],\n",
       "  ['Série 3 Cabrio', 2009, False],\n",
       "  ['Dodge Jorney', 2019, False],\n",
       "  ['Carens', 2011, False]]]"
      ]
     },
     "execution_count": 129,
     "metadata": {},
     "output_type": "execute_result"
    }
   ],
   "source": [
    "velhinho = []\n",
    "velhinho.append([lista for lista in dados if lista[2] == False])        \n",
    "velhinho"
   ]
  },
  {
   "cell_type": "code",
   "execution_count": 138,
   "metadata": {},
   "outputs": [],
   "source": [
    "zero_km_N, zero_km_Y = [], []\n",
    "\n",
    "for lista in dados:\n",
    "  if lista[2] == True:\n",
    "    zero_km_Y.append(lista)\n",
    "  else:\n",
    "    zero_km_N.append(lista)"
   ]
  },
  {
   "cell_type": "code",
   "execution_count": 139,
   "metadata": {},
   "outputs": [
    {
     "data": {
      "text/plain": [
       "[['DS5', 2019, True], ['A5', 2019, True]]"
      ]
     },
     "execution_count": 139,
     "metadata": {},
     "output_type": "execute_result"
    }
   ],
   "source": [
    "zero_km_Y"
   ]
  },
  {
   "cell_type": "code",
   "execution_count": 140,
   "metadata": {},
   "outputs": [
    {
     "data": {
      "text/plain": [
       "[['Jetta Variant', 2003, False],\n",
       " ['Passat', 1991, False],\n",
       " ['Crossfox', 1990, False],\n",
       " ['Aston Martin DB4', 2006, False],\n",
       " ['Palio Weekend', 2012, False],\n",
       " ['Série 3 Cabrio', 2009, False],\n",
       " ['Dodge Jorney', 2019, False],\n",
       " ['Carens', 2011, False]]"
      ]
     },
     "execution_count": 140,
     "metadata": {},
     "output_type": "execute_result"
    }
   ],
   "source": [
    "zero_km_N"
   ]
  },
  {
   "cell_type": "code",
   "execution_count": 142,
   "metadata": {},
   "outputs": [],
   "source": [
    "a, b, c = [], [], []\n",
    "\n",
    "for lista in dados:\n",
    "  if lista[1] <= 2000:\n",
    "    a.append(lista)\n",
    "  elif 2000 < lista[1] <= 2010:\n",
    "    b.append(lista)\n",
    "  else:\n",
    "    c.append(lista)"
   ]
  },
  {
   "cell_type": "code",
   "execution_count": 143,
   "metadata": {},
   "outputs": [
    {
     "data": {
      "text/plain": [
       "[['Passat', 1991, False], ['Crossfox', 1990, False]]"
      ]
     },
     "execution_count": 143,
     "metadata": {},
     "output_type": "execute_result"
    }
   ],
   "source": [
    "a"
   ]
  },
  {
   "cell_type": "code",
   "execution_count": 144,
   "metadata": {},
   "outputs": [
    {
     "data": {
      "text/plain": [
       "[['Jetta Variant', 2003, False],\n",
       " ['Aston Martin DB4', 2006, False],\n",
       " ['Série 3 Cabrio', 2009, False]]"
      ]
     },
     "execution_count": 144,
     "metadata": {},
     "output_type": "execute_result"
    }
   ],
   "source": [
    "b"
   ]
  },
  {
   "cell_type": "code",
   "execution_count": 145,
   "metadata": {},
   "outputs": [
    {
     "data": {
      "text/plain": [
       "[['DS5', 2019, True],\n",
       " ['Palio Weekend', 2012, False],\n",
       " ['A5', 2019, True],\n",
       " ['Dodge Jorney', 2019, False],\n",
       " ['Carens', 2011, False]]"
      ]
     },
     "execution_count": 145,
     "metadata": {},
     "output_type": "execute_result"
    }
   ],
   "source": [
    "c"
   ]
  },
  {
   "cell_type": "code",
   "execution_count": 146,
   "metadata": {},
   "outputs": [],
   "source": [
    "d, e, f = [], [], []\n",
    "\n",
    "for lista in dados:\n",
    "  if lista[1] <= 2000:\n",
    "    d.append(lista)\n",
    "  elif lista [1] > 2000 and lista [1] <= 2010:\n",
    "    e.append(lista)\n",
    "  else:\n",
    "    f.append(lista)"
   ]
  },
  {
   "cell_type": "code",
   "execution_count": 147,
   "metadata": {},
   "outputs": [
    {
     "data": {
      "text/plain": [
       "[['Passat', 1991, False], ['Crossfox', 1990, False]]"
      ]
     },
     "execution_count": 147,
     "metadata": {},
     "output_type": "execute_result"
    }
   ],
   "source": [
    "d"
   ]
  },
  {
   "cell_type": "code",
   "execution_count": 148,
   "metadata": {},
   "outputs": [
    {
     "data": {
      "text/plain": [
       "[['Jetta Variant', 2003, False],\n",
       " ['Aston Martin DB4', 2006, False],\n",
       " ['Série 3 Cabrio', 2009, False]]"
      ]
     },
     "execution_count": 148,
     "metadata": {},
     "output_type": "execute_result"
    }
   ],
   "source": [
    "e"
   ]
  },
  {
   "cell_type": "code",
   "execution_count": 149,
   "metadata": {},
   "outputs": [
    {
     "data": {
      "text/plain": [
       "[['DS5', 2019, True],\n",
       " ['Palio Weekend', 2012, False],\n",
       " ['A5', 2019, True],\n",
       " ['Dodge Jorney', 2019, False],\n",
       " ['Carens', 2011, False]]"
      ]
     },
     "execution_count": 149,
     "metadata": {},
     "output_type": "execute_result"
    }
   ],
   "source": [
    "f"
   ]
  },
  {
   "cell_type": "code",
   "execution_count": null,
   "metadata": {},
   "outputs": [],
   "source": []
  }
 ],
 "metadata": {
  "kernelspec": {
   "display_name": "Python 3",
   "language": "python",
   "name": "python3"
  },
  "language_info": {
   "codemirror_mode": {
    "name": "ipython",
    "version": 3
   },
   "file_extension": ".py",
   "mimetype": "text/x-python",
   "name": "python",
   "nbconvert_exporter": "python",
   "pygments_lexer": "ipython3",
   "version": "3.8.5"
  }
 },
 "nbformat": 4,
 "nbformat_minor": 4
}
